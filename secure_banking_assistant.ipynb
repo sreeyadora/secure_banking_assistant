{
  "nbformat": 4,
  "nbformat_minor": 0,
  "metadata": {
    "colab": {
      "provenance": [],
      "authorship_tag": "ABX9TyM/DfUnvxjabLRnasXrZT+m",
      "include_colab_link": true
    },
    "kernelspec": {
      "name": "python3",
      "display_name": "Python 3"
    },
    "language_info": {
      "name": "python"
    }
  },
  "cells": [
    {
      "cell_type": "markdown",
      "metadata": {
        "id": "view-in-github",
        "colab_type": "text"
      },
      "source": [
        "<a href=\"https://colab.research.google.com/github/sreeyadora/secure_banking_assistant/blob/main/secure_banking_assistant.ipynb\" target=\"_parent\"><img src=\"https://colab.research.google.com/assets/colab-badge.svg\" alt=\"Open In Colab\"/></a>"
      ]
    },
    {
      "cell_type": "code",
      "execution_count": 9,
      "metadata": {
        "colab": {
          "base_uri": "https://localhost:8080/"
        },
        "id": "G4Uyvdy5Ci5w",
        "outputId": "a61e2057-1228-47ff-f513-201f4b9c8f4a"
      },
      "outputs": [
        {
          "output_type": "stream",
          "name": "stdout",
          "text": [
            "Requirement already satisfied: rsa in /usr/local/lib/python3.11/dist-packages (4.9.1)\n",
            "Requirement already satisfied: pyasn1>=0.1.3 in /usr/local/lib/python3.11/dist-packages (from rsa) (0.6.1)\n"
          ]
        }
      ],
      "source": [
        "!pip install rsa\n"
      ]
    },
    {
      "cell_type": "code",
      "source": [
        "import rsa\n",
        "import time\n",
        "import uuid\n",
        "import json\n",
        "import base64\n",
        "\n",
        "# -------------------------------\n",
        "# 🔐 Cryptographic Utilities\n",
        "# -------------------------------\n",
        "\n",
        "def generate_rsa_keys():\n",
        "    \"\"\"Generates a public-private RSA key pair.\"\"\"\n",
        "    return rsa.newkeys(2048)\n",
        "\n",
        "def encrypt_message(message_bytes, public_key):\n",
        "    \"\"\"Encrypts a message using the recipient's RSA public key.\"\"\"\n",
        "    return rsa.encrypt(message_bytes, public_key)\n",
        "\n",
        "def decrypt_message(ciphertext_bytes, private_key):\n",
        "    \"\"\"Decrypts a message using the recipient's RSA private key.\"\"\"\n",
        "    return rsa.decrypt(ciphertext_bytes, private_key)\n",
        "\n",
        "def sign_message(message_bytes, private_key):\n",
        "    \"\"\"Generates a digital signature using the sender's private key.\"\"\"\n",
        "    return rsa.sign(message_bytes, private_key, 'SHA-256')\n",
        "\n",
        "def verify_signature(message_bytes, signature, public_key):\n",
        "    \"\"\"Verifies a digital signature using the sender's public key.\"\"\"\n",
        "    try:\n",
        "        rsa.verify(message_bytes, signature, public_key)\n",
        "        return True\n",
        "    except rsa.VerificationError:\n",
        "        return False\n",
        "\n",
        "def generate_nonce():\n",
        "    \"\"\"Generates a unique nonce using UUID.\"\"\"\n",
        "    return str(uuid.uuid4())\n",
        "\n",
        "def get_current_timestamp():\n",
        "    \"\"\"Returns the current timestamp.\"\"\"\n",
        "    return str(time.time())\n",
        "\n",
        "def is_fresh_timestamp(timestamp_str, allowed_delay_seconds=30):\n",
        "    \"\"\"Validates if the timestamp is recent (prevents replay).\"\"\"\n",
        "    try:\n",
        "        return abs(time.time() - float(timestamp_str)) <= allowed_delay_seconds\n",
        "    except:\n",
        "        return False\n"
      ],
      "metadata": {
        "id": "P1CpFcFJBy73"
      },
      "execution_count": 11,
      "outputs": []
    },
    {
      "cell_type": "code",
      "source": [
        "# -------------------------------\n",
        "# 🗃️ Simulated In-Memory Client Database\n",
        "# -------------------------------\n",
        "\n",
        "client_database = {}\n",
        "\n",
        "def register_client(client_id, public_key, name, email):\n",
        "    \"\"\"Registers a client into the simulated in-memory database.\"\"\"\n",
        "    client_database[client_id] = {\n",
        "        \"public_key\": public_key,\n",
        "        \"name\": name,\n",
        "        \"email\": email\n",
        "    }\n"
      ],
      "metadata": {
        "id": "6lx8oquiB4VK"
      },
      "execution_count": 12,
      "outputs": []
    },
    {
      "cell_type": "code",
      "source": [
        "# -------------------------------\n",
        "# 🔑 Generate RSA Key Pairs\n",
        "# -------------------------------\n",
        "\n",
        "# Bank (Server) key pair\n",
        "bank_public_key, bank_private_key = generate_rsa_keys()\n",
        "\n",
        "# Client key pair\n",
        "client_public_key, client_private_key = generate_rsa_keys()\n",
        "\n",
        "# Register the client in the bank's \"database\"\n",
        "register_client(\n",
        "    client_id=\"customer_001\",\n",
        "    public_key=client_public_key,\n",
        "    name=\"Sreeya Dora\",\n",
        "    email=\"sreeya.dr@gmail.com\"\n",
        ")\n"
      ],
      "metadata": {
        "id": "xC0yddkcB8E9"
      },
      "execution_count": 13,
      "outputs": []
    },
    {
      "cell_type": "code",
      "source": [
        "# -------------------------------\n",
        "# 📤 Client-Side: Create Secure Packet\n",
        "# -------------------------------\n",
        "\n",
        "# Prepare the message payload\n",
        "message_payload = {\n",
        "    \"message\": \"Transfer ₹50,000 to account 321098765432\",\n",
        "    \"timestamp\": get_current_timestamp(),\n",
        "    \"nonce\": generate_nonce()\n",
        "}\n",
        "\n",
        "# Convert to bytes\n",
        "payload_bytes = json.dumps(message_payload).encode()\n",
        "\n",
        "# Encrypt the payload with bank's public key\n",
        "encrypted_payload = encrypt_message(payload_bytes, bank_public_key)\n",
        "\n",
        "# Digitally sign the original message\n",
        "digital_signature = sign_message(payload_bytes, client_private_key)\n",
        "\n",
        "# Final secure packet to be sent\n",
        "secure_packet = {\n",
        "    \"client_id\": \"customer_001\",\n",
        "    \"ciphertext\": base64.b64encode(encrypted_payload).decode(),\n",
        "    \"signature\": base64.b64encode(digital_signature).decode()\n",
        "}\n"
      ],
      "metadata": {
        "id": "gLnZVxMDCBr8"
      },
      "execution_count": 16,
      "outputs": []
    },
    {
      "cell_type": "code",
      "source": [
        "# -------------------------------\n",
        "# 📥 Bank-Side: Process Incoming Secure Packet\n",
        "# -------------------------------\n",
        "\n",
        "def process_secure_message(packet):\n",
        "    \"\"\"Processes an incoming secure message at the bank.\"\"\"\n",
        "    client_id = packet.get(\"client_id\")\n",
        "    client_record = client_database.get(client_id)\n",
        "\n",
        "    if not client_record:\n",
        "        return \"❌ Error: Unregistered client\"\n",
        "\n",
        "    # Load client's public key\n",
        "    sender_public_key = client_record[\"public_key\"]\n",
        "\n",
        "    # Decode ciphertext and signature\n",
        "    try:\n",
        "        encrypted_bytes = base64.b64decode(packet[\"ciphertext\"])\n",
        "        signature_bytes = base64.b64decode(packet[\"signature\"])\n",
        "    except:\n",
        "        return \"❌ Error: Invalid encoding in packet\"\n",
        "\n",
        "    # Step 1: Decrypt the message\n",
        "    try:\n",
        "        decrypted_bytes = decrypt_message(encrypted_bytes, bank_private_key)\n",
        "        decrypted_payload = json.loads(decrypted_bytes.decode())\n",
        "    except:\n",
        "        return \"❌ Error: Failed to decrypt message\"\n",
        "\n",
        "    # Step 2: Replay protection (timestamp check)\n",
        "    if not is_fresh_timestamp(decrypted_payload[\"timestamp\"]):\n",
        "        return \"⚠️ Replay attack suspected! Timestamp too old or invalid.\"\n",
        "\n",
        "    # Step 3: Signature verification\n",
        "    if not verify_signature(decrypted_bytes, signature_bytes, sender_public_key):\n",
        "        return \"❌ Error: Signature verification failed\"\n",
        "\n",
        "    # Step 4: Success — Message accepted\n",
        "    return f\"✅ Secure Message from {client_record['name']} ({client_id}):\\n📝 {decrypted_payload['message']}\"\n"
      ],
      "metadata": {
        "id": "PMN-IbkQCNCD"
      },
      "execution_count": 17,
      "outputs": []
    },
    {
      "cell_type": "code",
      "source": [
        "# Simulate the secure communication\n",
        "response = process_secure_message(secure_packet)\n",
        "print(response)\n"
      ],
      "metadata": {
        "colab": {
          "base_uri": "https://localhost:8080/"
        },
        "id": "WbqGm5OjCOuR",
        "outputId": "2bc71e99-7abe-44be-acd7-fcf86ce066db"
      },
      "execution_count": 18,
      "outputs": [
        {
          "output_type": "stream",
          "name": "stdout",
          "text": [
            "✅ Secure Message from Sreeya Dora (customer_001):\n",
            "📝 Transfer ₹50,000 to account 321098765432\n"
          ]
        }
      ]
    }
  ]
}